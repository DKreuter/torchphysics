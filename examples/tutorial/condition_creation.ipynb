{
 "metadata": {
  "language_info": {
   "codemirror_mode": {
    "name": "ipython",
    "version": 3
   },
   "file_extension": ".py",
   "mimetype": "text/x-python",
   "name": "python",
   "nbconvert_exporter": "python",
   "pygments_lexer": "ipython3",
   "version": "3.9.4"
  },
  "orig_nbformat": 4,
  "kernelspec": {
   "name": "python3",
   "display_name": "Python 3.9.4 64-bit ('bosch': conda)"
  },
  "interpreter": {
   "hash": "5471d372aecbf763f050aece93ed861d8318175083d9494b12a3b32f7831ffe8"
  }
 },
 "nbformat": 4,
 "nbformat_minor": 2,
 "cells": [
  {
   "source": [
    "## Creation of Conditions\n",
    "\n",
    "Conditions are, next to variables, the central concept of this package. They define the necessary training of the model and connect the differential equation to the neural network.\n",
    "\n",
    "The conditions can be imported from _torchphysics.problem.condition_.\n",
    "\n",
    "There are essentally three different types of conditions:\n",
    "* #### DiffEqCondition:\n",
    "    These conditions handle the ODE/PDE that the model should solve. This means this condition somehow  \n",
    "    implements an equation of the form:\n",
    "    $$\n",
    "        D(u, x, \\lambda) = 0\n",
    "    $$\n",
    "    For $D$ any differential operator, $u$ the searched solution, $x$ some input variables from a   \n",
    "    domain $\\Omega$ and $\\lambda$ some additional parameters (optional).\n",
    "* #### BoundaryCondition: \n",
    "    This condition handles the boundary conditions of the problem and splits in three additional \n",
    "    classes:\n",
    "    * #### DirichletCondition:\n",
    "\n",
    "        For Dirichlet-conditions, e.g. $u(x) = g(x)$, on $\\partial \\Omega$.\n",
    "    * #### NeumannCondition:\n",
    "    \n",
    "        For Neumann-conditions, e.g. $\\vec{n} \\nabla u(x) = g(x)$, on $\\partial \\Omega$.\n",
    "    * #### DiffEqBoundaryCondition:\n",
    "\n",
    "        For arbitrary boundary conditions.\n",
    "\n",
    "* #### DataCondition:\n",
    "    Mostly used for validation of the model and the inverse problem, where we want to find \n",
    "    parameters $\\lambda$.\n",
    "\n",
    "How to create some simple conditions will be shown next. To see all possible inputs and properties of the conditions, see the documentation of each class."
   ],
   "cell_type": "markdown",
   "metadata": {}
  },
  {
   "source": [
    "In the following, we create the conditions that belong to a simple Poisson-Problem:\n",
    "$$\n",
    "    \\Delta u = -4.25\\pi^2 \\sin(\\tfrac{\\pi}{2} x_1)\\cdot \\cos(2\\pi x_2), \\text{ in } \\Omega = [0, 1] \\times [0, 1],\n",
    "$$\n",
    "$$\n",
    "    u(x) = \\sin(\\tfrac{\\pi}{2} x_1)\\cdot \\cos(2\\pi x_2), \\text{ on } \\partial \\Omega.\n",
    "$$\n",
    "\n",
    "The solution is easy to see: $u(x) = \\sin(\\tfrac{\\pi}{2} x_1)\\cdot \\cos(2\\pi x_2)$.\n",
    "\n",
    "We start with the PDE. It is important that we bring the given problem in the form\n",
    "$$\n",
    "    D(u, x, \\lambda) = 0\n",
    "$$\n",
    "so that the right hand side of the equation is zero! Here:\n",
    "$$\n",
    "    \\Delta u + 4.25\\pi^2 \\sin(\\tfrac{\\pi}{2} x_1)\\cdot \\cos(2\\pi x_2) = 0.\n",
    "$$\n",
    "First we start by defining a function, that implements the equation. This function needs to have two inputs, first the output of the neural network and second the data points (input of the network) as a dictionary. The Laplace-operator can be imported from utils.differentialoperators.\n",
    "\n",
    "Also it is important, that the PDE-function uses only methods from PyTorch! While it is okay to use contsants from other libraries, e.g. $\\pi$ from numpy."
   ],
   "cell_type": "markdown",
   "metadata": {}
  },
  {
   "cell_type": "code",
   "execution_count": 1,
   "metadata": {},
   "outputs": [],
   "source": [
    "from torchphysics.utils.differentialoperators import laplacian\n",
    "import torch\n",
    "import numpy as np\n",
    "\n",
    "def pde_function(u, input):\n",
    "    f = 4.25*np.pi*torch.sin(np.pi/2*input['x'][:, :1])*torch.cos(2*np.pi*input['x'][:, 1:])\n",
    "    return laplacian(u, input['x']) + f\n",
    "\n",
    "# the input dic. will always be in the form:\n",
    "# input = {'Variable_name_1': data_points_of_variable,\n",
    "#          'Variable_name_2': data_points_of_variable, ...}\n",
    "# The exact creation of variables is shown in ...\n",
    "\n",
    "# The data points will be always a tensor of the shape:\n",
    "# (batch_size, dimension of variable)"
   ]
  },
  {
   "source": [
    "Now connect this function with a DiffEqCondition:"
   ],
   "cell_type": "markdown",
   "metadata": {}
  },
  {
   "cell_type": "code",
   "execution_count": 2,
   "metadata": {},
   "outputs": [],
   "source": [
    "from torchphysics.problem.condition import DiffEqCondition\n",
    "\n",
    "pde_cond = DiffEqCondition(pde=pde_function, \n",
    "                           norm=torch.nn.MSELoss(), # norm for the loss\n",
    "                           name='test_pde', # some arbitrary name (needs to be unique per condition)\n",
    "                           sampling_strategy='grid', # The sampling strategy \n",
    "                           dataset_size=500) # number of datapoints for the training"
   ]
  },
  {
   "source": [
    "We dont specify the domain in the condition! The domains are only connected to input variables of the domain. When a condition is connected/registered to a variable it will automatically know on which domain to sample. More on this in the file _variable_creation.ipynb_. \n",
    "\n",
    "Next we create the condition for the boundary. The structure is the same as before, first the function then connection to the condition-class. "
   ],
   "cell_type": "markdown",
   "metadata": {}
  },
  {
   "cell_type": "code",
   "execution_count": 4,
   "metadata": {},
   "outputs": [],
   "source": [
    "def bound_function(input): \n",
    "    return np.sin(np.pi/2*input['x'][:, :1])*np.cos(2*np.pi*input['x'][:, 1:])\n",
    "# Since it is a Dirichlet-Condition, the function only gets the input data, not the\n",
    "# model. \n",
    "\n",
    "\n",
    "from torchphysics.problem.condition import DirichletCondition\n",
    "\n",
    "diri_cond = DirichletCondition(dirichlet_fun=bound_function,\n",
    "                               name='test diri',\n",
    "                               sampling_strategy='',\n",
    "                               boundary_sampling_strategy='grid',\n",
    "                               norm=torch.nn.MSELoss(),\n",
    "                               weight=1.0,\n",
    "                               dataset_size=200)\n",
    "# The only difference to the DiffEqCondition is, that here we have to different \n",
    "# sampling strategies. One for the boundary and one for the additional variables.\n",
    "# In this example there are no additional variables. But if we had, for example, \n",
    "# a time-variable, we could make grid sampling on the unit-square boundary and \n",
    "# sample at random points in time (sampling_strategy = 'random').    \n"
   ]
  }
 ]
}