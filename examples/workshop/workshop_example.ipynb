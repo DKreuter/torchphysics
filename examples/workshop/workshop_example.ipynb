{
 "cells": [
  {
   "cell_type": "code",
   "execution_count": 1,
   "metadata": {},
   "outputs": [],
   "source": [
    "import os\n",
    "os.environ[\"CUDA_VISIBLE_DEVICES\"] = \"1\"\n",
    "import torch\n",
    "import torchphysics as tp\n",
    "import pytorch_lightning as pl"
   ]
  },
  {
   "cell_type": "code",
   "execution_count": 87,
   "metadata": {},
   "outputs": [
    {
     "name": "stdout",
     "output_type": "stream",
     "text": [
      "tensor([[[18.5000+0.0000j, -3.5000+1.0000j, -7.5000+0.0000j],\n",
      "         [-3.5000+2.0000j,  1.0000+0.5000j,  2.5000-2.0000j],\n",
      "         [-1.5000+0.0000j,  0.5000+0.0000j,  0.5000+0.0000j],\n",
      "         [-3.5000-2.0000j,  0.0000+0.5000j,  2.5000+2.0000j]],\n",
      "\n",
      "        [[15.5000+0.0000j, -3.7500+2.7500j, -5.0000+0.0000j],\n",
      "         [-0.5000+4.0000j,  1.2500+1.2500j, -0.5000-3.5000j],\n",
      "         [-0.5000+0.0000j,  0.7500+1.2500j,  0.0000+0.0000j],\n",
      "         [-0.5000-4.0000j, -0.2500+0.7500j, -0.5000+3.5000j]]]) torch.Size([2, 4, 4]) torch.Size([2, 4, 3])\n",
      "tensor([[[ 4.0000+0.j, -2.0000+0.j],\n",
      "         [-1.0000+0.j,  1.0000+0.j]],\n",
      "\n",
      "        [[ 1.5000+0.j, -0.5000+0.j],\n",
      "         [ 1.5000+0.j, -0.5000+0.j]]])\n"
     ]
    }
   ],
   "source": [
    "x = torch.tensor((2, 4))\n",
    "a = torch.tensor([[[1, 2, 3, 4], [1, 4, 5, 6], [1, 9, 5, 9], [1, 9, 5, 9]], \n",
    "                  [[1, 2, 3, 8], [0, 0, 5, 3], [1, 4, 5, 6], [1, 9, 5, 9]]])\n",
    "padding = torch.zeros(2*len(x), dtype=torch.int32)\n",
    "padding[1::2] = torch.flip(torch.floor((x - torch.tensor(a.shape[1:])) / 2.0), \n",
    "                            dims=(0,))\n",
    "fft = torch.fft.rfftn(a, dim=(1, 2), norm=\"ortho\")\n",
    "print(fft, a.shape, fft.shape)\n",
    "fft = torch.fft.rfft2(a, s=(2, 2), norm=\"ortho\")\n",
    "print(fft)\n",
    "#fft_split = torch.fft.fft(torch.fft.fft(a, dim=2), dim=1)\n",
    "#print(torch.abs(fft_split - fft))\n",
    "#fft = torch.nn.functional.pad(\n",
    "#        torch.fft.rfftn(a, dim=(-1, -2), norm=\"ortho\"), \n",
    "#        padding.tolist()) # here remove to high freq.\n",
    "#print(padding, fft.shape)\n",
    "#print((torch.nn.functional.pad(fft, (-padding).tolist())).shape)\n",
    "#weighted_fft = fft\n",
    "#ifft = torch.fft.irfftn(\n",
    "#        torch.nn.functional.pad(weighted_fft, (-padding).tolist()), # here add high freq.\n",
    "#        dim=(-1, -2), norm=\"ortho\")\n",
    "#ifft"
   ]
  },
  {
   "cell_type": "code",
   "execution_count": 43,
   "metadata": {},
   "outputs": [
    {
     "name": "stdout",
     "output_type": "stream",
     "text": [
      "tensor([ 0, -1,  0, -1], dtype=torch.int32) tensor([[[ 2.1213+0.j, -0.7071+0.j]],\n",
      "\n",
      "        [[ 2.1213+0.j, -0.7071+0.j]]])\n",
      "tensor([[[19.9006+0.0000j, -5.8753+1.0731j, -1.7928-1.7364j],\n",
      "         [ 0.1826+2.5298j,  1.7317+2.6037j,  0.9396+0.0542j],\n",
      "         [ 0.1826-2.5298j,  0.1402+2.9430j, -2.5377+1.4542j]],\n",
      "\n",
      "        [[ 1.6432+0.0000j,  0.2257-1.8690j, -0.5908-1.6350j],\n",
      "         [-2.7386+0.0000j,  0.6699-0.6000j,  0.7145+1.0904j],\n",
      "         [-2.7386+0.0000j,  0.3691-0.3815j,  0.5286+1.6625j]]])\n"
     ]
    },
    {
     "data": {
      "text/plain": [
       "tensor([[[0.1826, 0.4349, 0.8431, 0.8431, 0.4349],\n",
       "         [0.1826, 0.4349, 0.8431, 0.8431, 0.4349],\n",
       "         [0.1826, 0.4349, 0.8431, 0.8431, 0.4349]],\n",
       "\n",
       "        [[0.1826, 0.4349, 0.8431, 0.8431, 0.4349],\n",
       "         [0.1826, 0.4349, 0.8431, 0.8431, 0.4349],\n",
       "         [0.1826, 0.4349, 0.8431, 0.8431, 0.4349]]])"
      ]
     },
     "execution_count": 43,
     "metadata": {},
     "output_type": "execute_result"
    }
   ],
   "source": [
    "x = torch.tensor((1, 2))\n",
    "a = torch.tensor([[[1, 2, 3, 4, 5], [1, 4, 5, 6, 2], [1, 9, 5, 9, 2]], \n",
    "                  [[1, 2, 3, 8, 8], [0, 0, 5, 3, 2], [1, 4, 5, 6, 2]]])\n",
    "padding = torch.zeros(2*len(x), dtype=torch.int32)\n",
    "padding[1::2] = torch.flip((x - torch.tensor(a.shape[1:])), \n",
    "                            dims=(0,)) / 2\n",
    "fft = torch.fft.rfftn(a, s=x.tolist(), norm=\"ortho\") \n",
    "print(padding, fft)\n",
    "print(torch.fft.rfftn(a, norm=\"ortho\") )\n",
    "weighted_fft = fft\n",
    "ifft = torch.fft.irfftn(fft, s=(3, 5), norm=\"ortho\")\n",
    "ifft"
   ]
  },
  {
   "cell_type": "code",
   "execution_count": null,
   "metadata": {},
   "outputs": [],
   "source": [
    "a = torch.ones((5, 4, 100, 10))"
   ]
  },
  {
   "cell_type": "code",
   "execution_count": 11,
   "metadata": {},
   "outputs": [
    {
     "data": {
      "text/plain": [
       "tensor([[0.0000e+00, 0.0000e+00, 0.0000e+00, 0.0000e+00, 0.0000e+00, 0.0000e+00,\n",
       "         0.0000e+00, 0.0000e+00, 0.0000e+00, 0.0000e+00, 0.0000e+00, 0.0000e+00,\n",
       "         0.0000e+00, 0.0000e+00, 0.0000e+00, 0.0000e+00, 0.0000e+00, 0.0000e+00,\n",
       "         0.0000e+00, 0.0000e+00],\n",
       "        [6.1426e-09, 3.0781e-08, 1.1931e-07, 1.1947e-07, 1.7126e-08, 1.7883e-07,\n",
       "         7.9779e-10, 5.9652e-08, 6.1000e-08, 2.9829e-08, 2.1280e-08, 8.3902e-09,\n",
       "         5.9777e-08, 6.0192e-08, 1.7875e-09, 1.2602e-09, 1.4750e-08, 5.9639e-08,\n",
       "         5.9693e-08, 2.9871e-08]])"
      ]
     },
     "execution_count": 11,
     "metadata": {},
     "output_type": "execute_result"
    }
   ],
   "source": [
    "a = torch.ones((2, 20))\n",
    "a[1, :] = torch.sin(torch.linspace(0, 6, 20))\n",
    "b = torch.fft.fftn(a, dim=1, norm=\"ortho\")\n",
    "torch.abs(torch.fft.ifftn(b, dim=1, norm=\"ortho\") - a)"
   ]
  },
  {
   "cell_type": "code",
   "execution_count": 2,
   "metadata": {},
   "outputs": [],
   "source": [
    "t_end = 3.0\n",
    "D_min, D_max = 0.01, 1.0\n",
    "g = 9.81\n",
    "H = 50.0"
   ]
  },
  {
   "cell_type": "code",
   "execution_count": 3,
   "metadata": {},
   "outputs": [],
   "source": [
    "T = tp.spaces.R1('t')\n",
    "D = tp.spaces.R1('D')\n",
    "X = tp.spaces.R1('x')\n",
    "\n",
    "int_t = tp.domains.Interval(T, 0, t_end)\n",
    "int_D = tp.domains.Interval(D, D_min, D_max)"
   ]
  },
  {
   "cell_type": "code",
   "execution_count": 4,
   "metadata": {},
   "outputs": [],
   "source": [
    "model = tp.models.FCN(T*D, X, hidden=(20, 20))"
   ]
  },
  {
   "cell_type": "code",
   "execution_count": 5,
   "metadata": {},
   "outputs": [],
   "source": [
    "def ode_residual(x, t, D):\n",
    "    #x *= 50.0\n",
    "    x_t = tp.utils.grad(x, t)\n",
    "    #x_tt = tp.utils.grad(x_t, t)\n",
    "    return x_t - D * x**2 + g\n",
    "\n",
    "ode_sampler = tp.samplers.RandomUniformSampler(int_t * int_D, n_points=5000)\n",
    "\n",
    "ode_condition = tp.conditions.PINNCondition(model, ode_sampler, ode_residual)"
   ]
  },
  {
   "cell_type": "code",
   "execution_count": 6,
   "metadata": {},
   "outputs": [],
   "source": [
    "def initial_residual(x):\n",
    "    x *= 50.0\n",
    "    return x - H\n",
    "\n",
    "initial_sampler = tp.samplers.RandomUniformSampler(int_t.boundary_left * int_D, 500)\n",
    "\n",
    "initial_condition = tp.conditions.PINNCondition(model, initial_sampler, initial_residual)"
   ]
  },
  {
   "cell_type": "code",
   "execution_count": 7,
   "metadata": {},
   "outputs": [],
   "source": [
    "def initial_residual_v(x, t):\n",
    "    #x *= 50.0\n",
    "    #x_t = tp.utils.grad(x, t)\n",
    "    return x # x_t\n",
    "\n",
    "initial_condition_v = tp.conditions.PINNCondition(model, initial_sampler, initial_residual_v)"
   ]
  },
  {
   "cell_type": "code",
   "execution_count": 8,
   "metadata": {},
   "outputs": [
    {
     "name": "stderr",
     "output_type": "stream",
     "text": [
      "GPU available: True, used: True\n",
      "TPU available: False, using: 0 TPU cores\n",
      "LOCAL_RANK: 0 - CUDA_VISIBLE_DEVICES: [1]\n",
      "\n",
      "  | Name             | Type       | Params\n",
      "------------------------------------------------\n",
      "0 | train_conditions | ModuleList | 501   \n",
      "1 | val_conditions   | ModuleList | 0     \n",
      "------------------------------------------------\n",
      "501       Trainable params\n",
      "0         Non-trainable params\n",
      "501       Total params\n",
      "0.002     Total estimated model params size (MB)\n",
      "/home/tomfre/miniconda3/envs/bosch/lib/python3.9/site-packages/pytorch_lightning/utilities/distributed.py:69: UserWarning: The dataloader, train dataloader, does not have many workers which may be a bottleneck. Consider increasing the value of the `num_workers` argument` (try 20 which is the number of cpus on this machine) in the `DataLoader` init to improve performance.\n",
      "  warnings.warn(*args, **kwargs)\n",
      "/home/tomfre/miniconda3/envs/bosch/lib/python3.9/site-packages/pytorch_lightning/utilities/distributed.py:69: UserWarning: The dataloader, val dataloader 0, does not have many workers which may be a bottleneck. Consider increasing the value of the `num_workers` argument` (try 20 which is the number of cpus on this machine) in the `DataLoader` init to improve performance.\n",
      "  warnings.warn(*args, **kwargs)\n"
     ]
    },
    {
     "data": {
      "application/vnd.jupyter.widget-view+json": {
       "model_id": "8d27b61e25b04e89ab7e01d9fe22061b",
       "version_major": 2,
       "version_minor": 0
      },
      "text/plain": [
       "Training: 0it [00:00, ?it/s]"
      ]
     },
     "metadata": {},
     "output_type": "display_data"
    },
    {
     "data": {
      "application/vnd.jupyter.widget-view+json": {
       "model_id": "00e5b06b3e544f6da68bbaeef5a29174",
       "version_major": 2,
       "version_minor": 0
      },
      "text/plain": [
       "Validating: 0it [00:00, ?it/s]"
      ]
     },
     "metadata": {},
     "output_type": "display_data"
    }
   ],
   "source": [
    "optim = tp.OptimizerSetting(optimizer_class=torch.optim.Adam, lr=0.001) \n",
    "solver = tp.solver.Solver([ode_condition, initial_condition_v],\n",
    "                         optimizer_setting=optim)\n",
    "\n",
    "trainer = pl.Trainer(gpus=1,\n",
    "                     num_sanity_val_steps=0,\n",
    "                     benchmark=True,\n",
    "                     max_steps=7500,\n",
    "                     logger=False,\n",
    "                     checkpoint_callback=False\n",
    "                     )\n",
    "\n",
    "trainer.fit(solver)"
   ]
  },
  {
   "cell_type": "code",
   "execution_count": 9,
   "metadata": {},
   "outputs": [
    {
     "data": {
      "text/plain": [
       "Text(0.5, 1.0, 'absolute error')"
      ]
     },
     "execution_count": 9,
     "metadata": {},
     "output_type": "execute_result"
    },
    {
     "data": {
      "image/png": "[encoded data removed]",
      "text/plain": [
       "<Figure size 432x288 with 1 Axes>"
      ]
     },
     "metadata": {
      "needs_background": "light"
     },
     "output_type": "display_data"
    },
    {
     "data": {
      "image/png": "[encoded data removed]",
      "text/plain": [
       "<Figure size 432x288 with 1 Axes>"
      ]
     },
     "metadata": {
      "needs_background": "light"
     },
     "output_type": "display_data"
    },
    {
     "data": {
      "image/png": "[encoded data removed]",
      "text/plain": [
       "<Figure size 432x288 with 1 Axes>"
      ]
     },
     "metadata": {
      "needs_background": "light"
     },
     "output_type": "display_data"
    }
   ],
   "source": [
    "import matplotlib.pyplot as plt\n",
    "\n",
    "D_test = 0.08\n",
    "\n",
    "def analytic_solution(t, D):\n",
    "    return torch.sqrt(g / D) * (2/(1 + torch.exp(2*torch.sqrt(D*g)*t)) - 1)\n",
    "    #return 1/D * (-torch.log((1+torch.exp(-2*torch.sqrt(D*g)*t))/2) - torch.sqrt(D*g)*t) + H\n",
    "\n",
    "plot_sampler = tp.samplers.PlotSampler(int_t, 100, data_for_other_variables={'D': D_test})\n",
    "fig = tp.utils.plot(model, lambda x: x, plot_sampler)\n",
    "plt.title(\"computed solution\")\n",
    "\n",
    "plot_sampler = tp.samplers.PlotSampler(int_t, 100, data_for_other_variables={'D': D_test})\n",
    "fig = tp.utils.plot(model, lambda t,D: analytic_solution(t, D), plot_sampler)\n",
    "plt.title(\"analytical solution\")\n",
    "\n",
    "fig = tp.utils.plot(model, lambda x,t,D: torch.abs(x - analytic_solution(t, D)), plot_sampler)\n",
    "plt.title(\"absolute error\")"
   ]
  }
 ],
 "metadata": {
  "kernelspec": {
   "display_name": "bosch",
   "language": "python",
   "name": "python3"
  },
  "language_info": {
   "codemirror_mode": {
    "name": "ipython",
    "version": 3
   },
   "file_extension": ".py",
   "mimetype": "text/x-python",
   "name": "python",
   "nbconvert_exporter": "python",
   "pygments_lexer": "ipython3",
   "version": "3.9.15"
  },
  "orig_nbformat": 4
 },
 "nbformat": 4,
 "nbformat_minor": 2
}
