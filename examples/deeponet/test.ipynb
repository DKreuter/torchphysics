{
 "cells": [
  {
   "cell_type": "code",
   "execution_count": 1,
   "metadata": {},
   "outputs": [
    {
     "output_type": "stream",
     "name": "stderr",
     "text": [
      "/home/nick7/anaconda3/envs/bosch-pde/lib/python3.9/site-packages/pytorch_lightning/metrics/__init__.py:43: LightningDeprecationWarning: `pytorch_lightning.metrics.*` module has been renamed to `torchmetrics.*` and split off to its own package (https://github.com/PyTorchLightning/metrics) since v1.3 and will be removed in v1.5\n  rank_zero_deprecation(\n"
     ]
    }
   ],
   "source": [
    "import torch\n",
    "import torchphysics as tp\n",
    "import pytorch_lightning as pl\n",
    "import os\n",
    "os.environ[\"CUDA_VISIBLE_DEVICES\"] = \"3\""
   ]
  },
  {
   "cell_type": "code",
   "execution_count": 2,
   "metadata": {},
   "outputs": [],
   "source": [
    "# Spaces \n",
    "T = tp.spaces.R1('t') # input variable\n",
    "U = tp.spaces.R1('u') # output variable\n",
    "K = tp.spaces.R1('k') # parameter\n",
    "F = tp.spaces.R1('f') # function spaces name\n",
    "# Domains\n",
    "T_int = tp.domains.Interval(T, 0, 1)\n",
    "K_int = tp.domains.Interval(K, 0, 6)"
   ]
  },
  {
   "cell_type": "code",
   "execution_count": 3,
   "metadata": {},
   "outputs": [],
   "source": [
    "# Defining function set\n",
    "Fn_space = tp.spaces.FunctionSpace(T_int, F)\n",
    "\n",
    "def f1(k, t):\n",
    "    return k*t\n",
    "\n",
    "def f2(k, t):\n",
    "    return k*t**2\n",
    "\n",
    "def f3(k, t):\n",
    "    return k*torch.cos(k*t)\n",
    "\n",
    "param_sampler = tp.samplers.RandomUniformSampler(K_int, n_points=20)\n",
    "Fn_set = tp.domains.CustomFunctionSet(Fn_space, param_sampler, f1)\n",
    "Fn_set += tp.domains.CustomFunctionSet(Fn_space, param_sampler, f2)\n",
    "Fn_set += tp.domains.CustomFunctionSet(Fn_space, param_sampler, f3)"
   ]
  },
  {
   "cell_type": "code",
   "execution_count": 4,
   "metadata": {},
   "outputs": [],
   "source": [
    "# Model\n",
    "dis_sampler = tp.samplers.GridSampler(T_int, 50).make_static()\n",
    "trunk_net = tp.models.FCTrunkNet(T, U, output_neurons=50)\n",
    "branch_net = tp.models.FCBranchNet(Fn_space, U, output_neurons=50, discretization_sampler=dis_sampler)\n",
    "model = tp.models.DeepONet(trunk_net, branch_net)"
   ]
  },
  {
   "cell_type": "code",
   "execution_count": 5,
   "metadata": {},
   "outputs": [],
   "source": [
    "# ODE condition\n",
    "inner_sampler = tp.samplers.RandomUniformSampler(T_int, 500)\n",
    "\n",
    "def ode_residual(u, t, f):\n",
    "    return tp.utils.grad(u, t) - f\n",
    "\n",
    "ode_cond = tp.conditions.PIDeepONetCondition(deeponet_model=model, \n",
    "                                             function_set=Fn_set, \n",
    "                                             output_sampler=inner_sampler, \n",
    "                                             name='ode_condition',\n",
    "                                             residual_fn=ode_residual)"
   ]
  },
  {
   "cell_type": "code",
   "execution_count": 6,
   "metadata": {},
   "outputs": [],
   "source": [
    "left_sampler = tp.samplers.RandomUniformSampler(T_int.boundary_left, 500)\n",
    "\n",
    "def initial_residual(u):\n",
    "    return u\n",
    "\n",
    "initial_cond = tp.conditions.PIDeepONetCondition(deeponet_model=model, \n",
    "                                                 function_set=Fn_set, \n",
    "                                                 output_sampler=left_sampler, \n",
    "                                                 residual_fn=initial_residual)"
   ]
  },
  {
   "cell_type": "code",
   "execution_count": 7,
   "metadata": {
    "tags": []
   },
   "outputs": [
    {
     "output_type": "stream",
     "name": "stderr",
     "text": [
      "GPU available: True, used: True\n",
      "TPU available: False, using: 0 TPU cores\n",
      "LOCAL_RANK: 0 - CUDA_VISIBLE_DEVICES: [3]\n",
      "\n",
      "  | Name             | Type       | Params\n",
      "------------------------------------------------\n",
      "0 | train_conditions | ModuleList | 4.8 K \n",
      "1 | val_conditions   | ModuleList | 0     \n",
      "------------------------------------------------\n",
      "4.8 K     Trainable params\n",
      "0         Non-trainable params\n",
      "4.8 K     Total params\n",
      "0.019     Total estimated model params size (MB)\n"
     ]
    },
    {
     "output_type": "display_data",
     "data": {
      "text/plain": "Training: 0it [00:00, ?it/s]",
      "application/vnd.jupyter.widget-view+json": {
       "version_major": 2,
       "version_minor": 0,
       "model_id": "68521a311e1d461a92635a57b2c2d995"
      }
     },
     "metadata": {}
    },
    {
     "output_type": "display_data",
     "data": {
      "text/plain": "Validating: 0it [00:00, ?it/s]",
      "application/vnd.jupyter.widget-view+json": {
       "version_major": 2,
       "version_minor": 0,
       "model_id": "75cc271b5c9e4bcda53b483788405665"
      }
     },
     "metadata": {}
    }
   ],
   "source": [
    "solver = tp.solver.Solver([ode_cond, initial_cond])\n",
    "\n",
    "trainer = pl.Trainer(gpus='-1' if torch.cuda.is_available() else None,\n",
    "                     num_sanity_val_steps=0,\n",
    "                     benchmark=True,\n",
    "                     max_steps=3000,\n",
    "                     logger=False,\n",
    "                     checkpoint_callback=False\n",
    "                     )\n",
    "\n",
    "trainer.fit(solver)"
   ]
  }
 ],
 "metadata": {
  "interpreter": {
   "hash": "fb770cb910411e790a99fd848f827dc995ac53be5098d939fbaa56bcec3c9277"
  },
  "kernelspec": {
   "display_name": "Python 3",
   "language": "python",
   "name": "python3"
  },
  "language_info": {
   "codemirror_mode": {
    "name": "ipython",
    "version": 3
   },
   "file_extension": ".py",
   "mimetype": "text/x-python",
   "name": "python",
   "nbconvert_exporter": "python",
   "pygments_lexer": "ipython3",
   "version": "3.9.4-final"
  },
  "orig_nbformat": 4
 },
 "nbformat": 4,
 "nbformat_minor": 2
}