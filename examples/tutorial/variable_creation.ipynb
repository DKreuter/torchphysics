{
 "metadata": {
  "language_info": {
   "codemirror_mode": {
    "name": "ipython",
    "version": 3
   },
   "file_extension": ".py",
   "mimetype": "text/x-python",
   "name": "python",
   "nbconvert_exporter": "python",
   "pygments_lexer": "ipython3",
   "version": "3.9.4"
  },
  "orig_nbformat": 4,
  "kernelspec": {
   "name": "python3",
   "display_name": "Python 3.9.4 64-bit ('bosch': conda)"
  },
  "interpreter": {
   "hash": "5471d372aecbf763f050aece93ed861d8318175083d9494b12a3b32f7831ffe8"
  }
 },
 "nbformat": 4,
 "nbformat_minor": 2,
 "cells": [
  {
   "source": [
    "## Creation of Variables\n",
    "\n",
    "The Variable-class connects all previously shown ideas. Every _variable_ has a name, a order and a domain. The name should be unique per variable, the order describes the order of the differential equation w.r.t. to this variable and the domain is a _Domain_ object.\n",
    "\n",
    "The creation is straight forward:\n",
    "  "
   ],
   "cell_type": "markdown",
   "metadata": {}
  },
  {
   "cell_type": "code",
   "execution_count": 1,
   "metadata": {},
   "outputs": [],
   "source": [
    "# First create a domain:\n",
    "from torchphysics.problem.domain import Rectangle\n",
    "R = Rectangle([0, 0], [1, 0], [0, 1])"
   ]
  },
  {
   "cell_type": "code",
   "execution_count": 2,
   "metadata": {},
   "outputs": [],
   "source": [
    "# Now the varibale:\n",
    "from torchphysics.problem import Variable\n",
    "\n",
    "vari = Variable(name='x', \n",
    "                domain=R)"
   ]
  },
  {
   "source": [
    "For now, nothing special happend. The important part is the registartion of conditions.\n",
    "Every varibale gets only, the boundary condition w.r.t. the varible.\n",
    "\n",
    "E.g. for our Poisson-Problem, _x_ will get the the boundary conditon: $\\sin(\\frac{\\pi}{2}x_1)\\cos(2\\pi x_2)$: "
   ],
   "cell_type": "markdown",
   "metadata": {}
  },
  {
   "cell_type": "code",
   "execution_count": 3,
   "metadata": {},
   "outputs": [],
   "source": [
    "# create the condition like before:\n",
    "from torchphysics.problem.condition import DirichletCondition\n",
    "import numpy as np\n",
    "import torch\n",
    "\n",
    "def bound_function(input): \n",
    "    return np.sin(np.pi/2*input['x'][:, :1])*np.cos(2*np.pi*input['x'][:, 1:])\n",
    "\n",
    "diri_cond = DirichletCondition(dirichlet_fun=bound_function,\n",
    "                               name='test diri',\n",
    "                               sampling_strategy='',\n",
    "                               boundary_sampling_strategy='grid',\n",
    "                               norm=torch.nn.MSELoss(),\n",
    "                               weight=1.0,\n",
    "                               dataset_size=200)"
   ]
  },
  {
   "cell_type": "code",
   "execution_count": 4,
   "metadata": {},
   "outputs": [],
   "source": [
    "# register the condition:\n",
    "vari.add_train_condition(diri_cond)"
   ]
  },
  {
   "source": [
    "This is the whole registration process. One could register more conditions, over _add_vali_condition_\n",
    "it is even possible to use methods for validation purposes.\n",
    "\n",
    "If we had also an initial condition then we would register it as a boundary condition for \n",
    "the time variable.\n",
    "\n",
    "Before we created also a Condition for the PDE this one will be registered \n",
    "else where Since in general we have more variables and the PDE needs to be trained on sample points inside all variable-domains. Where\n",
    "the registration will happen, is shown in the last part of this tutorial where we finally\n",
    "train a network to solve the problem.\n"
   ],
   "cell_type": "markdown",
   "metadata": {}
  }
 ]
}