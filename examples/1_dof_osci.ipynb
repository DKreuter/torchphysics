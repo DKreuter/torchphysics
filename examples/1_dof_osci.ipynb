{
 "cells": [
  {
   "cell_type": "code",
   "execution_count": 1,
   "id": "b8374ed7",
   "metadata": {},
   "outputs": [
    {
     "name": "stderr",
     "output_type": "stream",
     "text": [
      "GPU available: False, used: False\n",
      "TPU available: False, using: 0 TPU cores\n",
      "\n",
      "  | Name  | Type      | Params\n",
      "------------------------------------\n",
      "0 | model | SimpleFCN | 2.7 K \n",
      "------------------------------------\n",
      "2.7 K     Trainable params\n",
      "0         Non-trainable params\n",
      "2.7 K     Total params\n",
      "0.011     Total estimated model params size (MB)\n"
     ]
    },
    {
     "data": {
      "application/vnd.jupyter.widget-view+json": {
       "model_id": "",
       "version_major": 2,
       "version_minor": 0
      },
      "text/plain": [
       "Validation sanity check: 0it [00:00, ?it/s]"
      ]
     },
     "metadata": {},
     "output_type": "display_data"
    },
    {
     "name": "stderr",
     "output_type": "stream",
     "text": [
      "C:\\python\\neural-diff-eq\\_venv\\lib\\site-packages\\pytorch_lightning\\utilities\\distributed.py:69: UserWarning: The dataloader, val dataloader 0, does not have many workers which may be a bottleneck. Consider increasing the value of the `num_workers` argument` (try 12 which is the number of cpus on this machine) in the `DataLoader` init to improve performance.\n",
      "  warnings.warn(*args, **kwargs)\n",
      "C:\\python\\neural-diff-eq\\_venv\\lib\\site-packages\\pytorch_lightning\\utilities\\distributed.py:69: UserWarning: The dataloader, train dataloader, does not have many workers which may be a bottleneck. Consider increasing the value of the `num_workers` argument` (try 12 which is the number of cpus on this machine) in the `DataLoader` init to improve performance.\n",
      "  warnings.warn(*args, **kwargs)\n"
     ]
    },
    {
     "data": {
      "application/vnd.jupyter.widget-view+json": {
       "model_id": "f8982ba9a73244eb8de78a835d4719eb",
       "version_major": 2,
       "version_minor": 0
      },
      "text/plain": [
       "Training: 0it [00:00, ?it/s]"
      ]
     },
     "metadata": {},
     "output_type": "display_data"
    },
    {
     "data": {
      "application/vnd.jupyter.widget-view+json": {
       "model_id": "",
       "version_major": 2,
       "version_minor": 0
      },
      "text/plain": [
       "Validating: 0it [00:00, ?it/s]"
      ]
     },
     "metadata": {},
     "output_type": "display_data"
    },
    {
     "data": {
      "application/vnd.jupyter.widget-view+json": {
       "model_id": "",
       "version_major": 2,
       "version_minor": 0
      },
      "text/plain": [
       "Validating: 0it [00:00, ?it/s]"
      ]
     },
     "metadata": {},
     "output_type": "display_data"
    },
    {
     "data": {
      "application/vnd.jupyter.widget-view+json": {
       "model_id": "",
       "version_major": 2,
       "version_minor": 0
      },
      "text/plain": [
       "Validating: 0it [00:00, ?it/s]"
      ]
     },
     "metadata": {},
     "output_type": "display_data"
    }
   ],
   "source": [
    "\n",
    "\"\"\"\n",
    "Created on Mon Jul  5 14:35:18 2021\n",
    "\n",
    "@author: KRD2RNG\n",
    "\"\"\"\n",
    "\n",
    "import os\n",
    "import numpy as np\n",
    "import pandas as pd\n",
    "from scipy import signal as sg\n",
    "import matplotlib.pyplot as plt\n",
    "\n",
    "import torch\n",
    "import pytorch_lightning as pl\n",
    "from torchphysics.problem import Variable\n",
    "from torchphysics.setting import Setting\n",
    "from torchphysics.problem.domain import Interval\n",
    "from torchphysics.problem.condition import (DirichletCondition,\n",
    "                                            NeumannCondition, \n",
    "                                              DiffEqCondition)\n",
    "from torchphysics.models.fcn import SimpleFCN\n",
    "from torchphysics import PINNModule\n",
    "from torchphysics.utils import laplacian, grad\n",
    "from torchphysics.utils.plot import _plot\n",
    "\n",
    "\n",
    "os.environ[\"CUDA_VISIBLE_DEVICES\"] = \"0\" # select GPUs to use\n",
    "\n",
    "#pl.seed_everything(43) # set a global seed\n",
    "torch.cuda.is_available()\n",
    "# matplotlib.style.use('default')\n",
    "\n",
    "stiffness = 1e4\n",
    "damping = 4\n",
    "mass = 1\n",
    "SampleFrequency = 1024\n",
    "t_end = 5\n",
    "t = np.linspace(0, t_end, t_end * SampleFrequency)\n",
    "#%%\n",
    "def calc_omega_0(c, m):\n",
    "    return np.sqrt(c/m)\n",
    "def calc_delta(b, m):\n",
    "    return b/(2*m)\n",
    "#%%\n",
    "def time_evolution(A, B, C, D, excitation, x, t):\n",
    "    \"\"\"calculate time response\"\"\"\n",
    "    y = np.zeros((len(D), len(t)))\n",
    "    for k in range(0, len(t)-1):\n",
    "        y[:, k] = C @ x.ravel() + D @ excitation[:, k]\n",
    "        x = A @ x.ravel() + B @ excitation[:, k]\n",
    "    return(pd.DataFrame(data=y.T, index=t, columns=[\"state_space\"]))\n",
    "\n",
    "def state_space_dof_1(excitation, x0):\n",
    "    Ac = np.array([[0, 1], [-stiffness/mass, -damping/mass]])\n",
    "    Bc = np.array([[0], [1/mass]])\n",
    "    Cc = np.array([[1, 0]])\n",
    "    Dc = np.array([[0]])\n",
    "\n",
    "    # Discrete\n",
    "    A, B, C, D, _ = sg.cont2discrete((Ac, Bc, Cc, Dc), dt=1/SampleFrequency)\n",
    "\n",
    "    y = time_evolution(A, B, C, D, excitation, x0, t)\n",
    "    return y\n",
    "\n",
    "def analytical_dof_1(x0):\n",
    "    delta = calc_delta(damping, mass)\n",
    "    omega_0 = calc_omega_0(stiffness, mass)\n",
    "    omega_d = np.sqrt(omega_0**2 - delta**2)\n",
    "    y = np.exp(-delta * t) * (((x0[1] + delta * x0[0]) / omega_d) * np.sin(omega_d * t) + x0[0] * np.cos(omega_d * t))\n",
    "    return pd.DataFrame(data=y.T, index=t)\n",
    "\n",
    "#%% reference solution\n",
    "dirac = np.array([sg.unit_impulse(len(t), idx=0)])\n",
    "x0 = np.array([[1], [0]])\n",
    "y = state_space_dof_1(dirac, x0)\n",
    "y[\"analytical\"] = analytical_dof_1(x0)\n",
    "y.plot()\n",
    "\n",
    "#%% PINN approach\n",
    "# u_tt + delta * u_t + omega**2 * u = f(t)\n",
    "\n",
    "norm = torch.nn.MSELoss() #  #L1Loss\n",
    "\n",
    "time = Variable(name='time',\n",
    "              order=1,\n",
    "              domain=Interval(low_bound=0,\n",
    "                              up_bound=t_end),\n",
    "              train_conditions={},\n",
    "              val_conditions={})\n",
    "# c = Variable(name='stiffness',\n",
    "#               order=0,\n",
    "#               domain=Interval(low_bound=1e3,\n",
    "#                               up_bound=1e5),\n",
    "#               train_conditions={},\n",
    "#               val_conditions={})\n",
    "\n",
    "def time_dirichlet_fun(time): # (time)\n",
    "    return np.ones_like(time)\n",
    "\n",
    "def time_neumann_fun(time):\n",
    "    return np.zeros_like(time)\n",
    "\n",
    "time.add_train_condition(DirichletCondition(dirichlet_fun=time_dirichlet_fun,\n",
    "                                          name='dirichlet',\n",
    "                                          norm=norm,\n",
    "                                          weight = 2,\n",
    "                                          dataset_size=1,\n",
    "                                          boundary_sampling_strategy='lower_bound_only',\n",
    "                                          data_plot_variables=True))\n",
    "\n",
    "time.add_train_condition(NeumannCondition(neumann_fun=time_neumann_fun,\n",
    "                                          name='neumann',\n",
    "                                          norm=norm,\n",
    "                                          dataset_size=1,\n",
    "                                          boundary_sampling_strategy='lower_bound_only',\n",
    "                                          data_plot_variables=True))\n",
    "\n",
    "def ode_oscillation(u, time):\n",
    "    # return laplacian(u, time) + (damping / (2 * mass)) * grad(u, time) + torch.sqrt(input[\"stiffness\"]/mass) * u\n",
    "    f = laplacian(u, time) + 2*calc_delta(damping, mass) * grad(u, time) + (calc_omega_0(stiffness, mass)**2) * u\n",
    "    plt.plot(time.detach().numpy(), u.detach().numpy(), \"x\")\n",
    "    return f\n",
    "# a DiffEqCondition works similar to the boundary condiitions\n",
    "train_cond = DiffEqCondition(pde=ode_oscillation,\n",
    "                              name='ode_oscillation',\n",
    "                              norm=norm,\n",
    "                              sampling_strategy='random',\n",
    "                              weight=1.0,\n",
    "                              dataset_size=2048,\n",
    "                              data_plot_variables='time')#)('time'))\n",
    "#%%\n",
    "setup = Setting(variables=time,\n",
    "                train_conditions={'ode_oscillation': train_cond},\n",
    "                val_conditions={},\n",
    "                solution_dims={'u': 1},\n",
    "                n_iterations=500)\n",
    "#%%\n",
    "solver = PINNModule(model=SimpleFCN(variable_dims=setup.variable_dims,\n",
    "                                    solution_dims=setup.solution_dims,\n",
    "                                    depth=4,\n",
    "                                    width=25,\n",
    "                                    activation_func=torch.nn.Mish()),\n",
    "                    optimizer=torch.optim.Adam, # Adam\n",
    "                    lr=1e-3,\n",
    "                    # log_plotter=plotter\n",
    "                    )\n",
    "#%%\n",
    "trainer = pl.Trainer(gpus='-1' if torch.cuda.is_available() else None,\n",
    "                     # logger=False,\n",
    "                     num_sanity_val_steps=1,\n",
    "                     benchmark=True,\n",
    "                     check_val_every_n_epoch=2,\n",
    "                     log_every_n_steps=10,\n",
    "                     max_epochs=20,\n",
    "                     checkpoint_callback=False\n",
    "                     )\n",
    "#%%\n",
    "trainer.fit(solver, setup)"
   ]
  },
  {
   "cell_type": "code",
   "execution_count": 2,
   "id": "5d12cfe8",
   "metadata": {},
   "outputs": [],
   "source": [
    "fig = _plot(model=solver.model, solution_name=\"u\", plot_variables=time, points=1500,\n",
    "            plot_type='line') \n",
    "fig.axes[0].set_box_aspect(1/2)"
   ]
  },
  {
   "cell_type": "code",
   "execution_count": null,
   "id": "70e6fbb5",
   "metadata": {},
   "outputs": [],
   "source": []
  }
 ],
 "metadata": {
  "kernelspec": {
   "display_name": "Python 3",
   "language": "python",
   "name": "python3"
  },
  "language_info": {
   "codemirror_mode": {
    "name": "ipython",
    "version": 3
   },
   "file_extension": ".py",
   "mimetype": "text/x-python",
   "name": "python",
   "nbconvert_exporter": "python",
   "pygments_lexer": "ipython3",
   "version": "3.9.6"
  }
 },
 "nbformat": 4,
 "nbformat_minor": 5
}
