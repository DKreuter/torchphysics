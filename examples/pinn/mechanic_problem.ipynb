{
 "cells": [
  {
   "cell_type": "code",
   "execution_count": 1,
   "metadata": {},
   "outputs": [],
   "source": [
    "import torch\n",
    "import torchphysics as tp\n",
    "import pytorch_lightning as pl\n",
    "import itertools\n",
    "from torchphysics.problem.domains.domain3D.trimesh_polyhedron import TrimeshPolyhedron\n",
    "#import os\n",
    "#os.environ[\"CUDA_VISIBLE_DEVICES\"] = \"3\""
   ]
  },
  {
   "cell_type": "code",
   "execution_count": 2,
   "metadata": {},
   "outputs": [],
   "source": [
    "# Spaces for in- and output\n",
    "X = tp.spaces.R1('x')*tp.spaces.R1('y')*tp.spaces.R1('z')\n",
    "U = tp.spaces.R3('u')\n",
    "\n",
    "# Parameter\n",
    "kappa = 18.3333 # GPa = 18333,33 Mpa\n",
    "mu = 3.92857 # GPa = 3928.57 Mpa\n",
    "u_dis = 0.2 # mm"
   ]
  },
  {
   "cell_type": "code",
   "execution_count": null,
   "metadata": {},
   "outputs": [],
   "source": [
    "# Load stl.file and create domain\n",
    "p = TrimeshPolyhedron(X, file_name='./data/geom_mech.stl')\n",
    "\n",
    "p_slice = p.slice_with_plane(X['x', 'y']) # 2D domain\n",
    "height_interval = tp.domains.Interval(tp.spaces.R1('z'), 0.0, 1.0)\n",
    "\n",
    "# filter functions for boundary points\n",
    "radius_s = 0.75**2\n",
    "tol = 0.005 # tolerance for points at hole\n",
    "tol_z = 1.e-4 # tolerance for bottom and top surface\n",
    "def filter_top_hole(x, y):\n",
    "    return (x + 12.67)**2 + (y - 3.5)**2 <= radius_s + tol\n",
    "\n",
    "def filter_bottom_hole(x, y):\n",
    "    return (x + 12.67)**2 + (y - 0.2)**2 <= radius_s + tol\n",
    "\n",
    "def filter_top_bottom(z):\n",
    "    return torch.logical_or(z < tol_z, z > 1 - tol_z)\n",
    "\n",
    "def stress_surface(x, y, z):\n",
    "    on_z = filter_top_bottom(z)\n",
    "    in_hole = torch.logical_or(filter_top_hole(x, y), filter_bottom_hole(x, y))\n",
    "    return torch.logical_not(torch.logical_or(on_z, in_hole))\n"
   ]
  },
  {
   "cell_type": "code",
   "execution_count": null,
   "metadata": {},
   "outputs": [],
   "source": [
    "# network to train\n",
    "model = tp.models.Sequential(\n",
    "    tp.models.NormalizationLayer(p),\n",
    "    tp.models.FCN(input_space=X, output_space=U, hidden=(30,30,30)))"
   ]
  },
  {
   "cell_type": "code",
   "execution_count": null,
   "metadata": {},
   "outputs": [],
   "source": [
    "inner_sampler = tp.samplers.RandomUniformSampler(p, n_points = 18000).make_static() \n",
    "top_hole_sampler = tp.samplers.RandomUniformSampler(p.boundary, n_points=2000, \n",
    "                                                    filter_fn=filter_top_hole).make_static()\n",
    "bottom_hole_sampler = tp.samplers.RandomUniformSampler(p.boundary, n_points=2000, \n",
    "                                                       filter_fn=filter_bottom_hole).make_static()\n",
    "surface_sampler = tp.samplers.RandomUniformSampler(p.boundary, n_points=12000, \n",
    "                                                   filter_fn=stress_surface).make_static()\n",
    "#fig = tp.utils.scatter(X, surface_sampler, top_hole_sampler, bottom_hole_sampler)\n",
    "#fig.get_axes()[0].view_init(90, 270)\n",
    "#fig.set_size_inches(10, 8)"
   ]
  },
  {
   "cell_type": "code",
   "execution_count": null,
   "metadata": {},
   "outputs": [],
   "source": [
    "# Compute C:\n",
    "def delta(a, b):\n",
    "    return a == b\n",
    "\n",
    "C = torch.zeros((3, 3, 3, 3), dtype=torch.float32)\n",
    "for i,j,k,l in itertools.product(range(3), range(3), range(3), range(3)):\n",
    "    unit_prod = delta(i, j) * delta(k, l)\n",
    "    P_sym = 0.5 * (delta(i, k) * delta(j, l) + delta(j, k) * delta(i, l)) - 1/3.0*unit_prod\n",
    "    C[i,j,k,l] = kappa * unit_prod + 2*mu*P_sym\n",
    "\n",
    "# reshape to (9, 1, 3, 3), to apply to batch of the form (\"1\", batch_dim, 3, 3)\n",
    "C = C.reshape(9, 1, 3, 3)"
   ]
  },
  {
   "cell_type": "code",
   "execution_count": null,
   "metadata": {},
   "outputs": [],
   "source": [
    "## test C stuff:\n",
    "#a = torch.tensor([[[1.0, 0.0, 2.0], [1.0, 1.0, 2.0], [0.0, 1.0, 2.0]], \n",
    "#                  [[1.0, 1.0, 2.0], [1.0, 5.0, 2.0], [5.0, 1.0, 2.0]]])\n",
    "#b = torch.matmul(C, a)\n",
    "#print(b)\n",
    "#print(b.sum(dim=(2, 3)).T.reshape(len(a), 3, 3))"
   ]
  },
  {
   "cell_type": "code",
   "execution_count": null,
   "metadata": {},
   "outputs": [],
   "source": [
    "# inner pde condition:\n",
    "def pde_residual(u, C, x, y, z):\n",
    "    sym_grad = tp.utils.sym_grad(u, x, y, z)\n",
    "    sigma = torch.matmul(C, sym_grad).sum(dim=(2, 3)).T.reshape(len(u), 3, 3)\n",
    "    return tp.utils.matrix_div(sigma, x, y, z) # + forces\n",
    "\n",
    "\n",
    "pde_condition = tp.conditions.PINNCondition(module=model,\n",
    "                                            sampler=inner_sampler,\n",
    "                                            residual_fn=pde_residual, \n",
    "                                            data_functions={'C': C})"
   ]
  },
  {
   "cell_type": "code",
   "execution_count": null,
   "metadata": {},
   "outputs": [],
   "source": [
    "# boundary conditions\n",
    "# normal strain at 'outer' boundary = 0\n",
    "def strain_residual(u, x, y, z, n, C):\n",
    "    sym_grad = tp.utils.sym_grad(u, x, y, z)\n",
    "    sigma = torch.matmul(C, sym_grad).sum(dim=(2, 3)).T.reshape(len(u), 3, 3)\n",
    "    return torch.matmul(sigma, n)\n",
    "\n",
    "def normal_fn(x, y, z):\n",
    "    return p.boundary.normal(torch.cat((x,y,z), dim=-1)).unsqueeze(2) # for correct shape \n",
    "\n",
    "strain_condition = tp.conditions.PINNCondition(module=model,\n",
    "                                               sampler=surface_sampler,\n",
    "                                               residual_fn=strain_residual, \n",
    "                                               data_functions={'n': normal_fn, 'C': C})"
   ]
  },
  {
   "cell_type": "code",
   "execution_count": null,
   "metadata": {},
   "outputs": [],
   "source": [
    "# periodic in z\n",
    "side_sampler = tp.samplers.RandomUniformSampler(p_slice, n_points=6000).make_static()\n",
    "\n",
    "def bc_fun(u_left, u_right):\n",
    "    return u_left - u_right\n",
    "\n",
    "periodic_cond = tp.conditions.PeriodicCondition(module=model,\n",
    "                                                periodic_interval=height_interval,\n",
    "                                                non_periodic_sampler=side_sampler,\n",
    "                                                residual_fn=bc_fun, \n",
    "                                                weight=10.0)"
   ]
  },
  {
   "cell_type": "code",
   "execution_count": null,
   "metadata": {},
   "outputs": [],
   "source": [
    "# displacement:\n",
    "def displacement_residual(u):\n",
    "    return u - torch.tensor([0.0, u_dis, 0.0], device=u.device)\n",
    "\n",
    "displacement_condition = tp.conditions.PINNCondition(module=model,\n",
    "                                                     sampler=top_hole_sampler,\n",
    "                                                     residual_fn=displacement_residual,\n",
    "                                                     weight=100)\n",
    "\n",
    "# fixed at lower hole\n",
    "def fix_residual(u):\n",
    "    return u\n",
    "\n",
    "fix_condition = tp.conditions.PINNCondition(module=model,\n",
    "                                            sampler=bottom_hole_sampler,\n",
    "                                            residual_fn=fix_residual, \n",
    "                                            weight=100)"
   ]
  },
  {
   "cell_type": "code",
   "execution_count": null,
   "metadata": {},
   "outputs": [],
   "source": [
    "solver = tp.solver.Solver([strain_condition, fix_condition, displacement_condition, \n",
    "                           pde_condition, periodic_cond])\n",
    "\n",
    "trainer = pl.Trainer(gpus='-1' if torch.cuda.is_available() else None,\n",
    "                     num_sanity_val_steps=0,\n",
    "                     benchmark=True,\n",
    "                     max_steps=12000,\n",
    "                     logger=False,\n",
    "                     checkpoint_callback=False\n",
    "                     )\n",
    "\n",
    "trainer.fit(solver)"
   ]
  },
  {
   "cell_type": "code",
   "execution_count": null,
   "metadata": {},
   "outputs": [],
   "source": [
    "samp = tp.samplers.PlotSampler(p_slice, n_points=3000, data_for_other_variables={'z': 0.5})\n",
    "fig = tp.utils.plot(model, lambda u: u[:, 1:2], samp, plot_type='contour_surface')"
   ]
  },
  {
   "cell_type": "code",
   "execution_count": null,
   "metadata": {},
   "outputs": [],
   "source": [
    "def strain_fn(u, x, y, z):\n",
    "    sym_grad = tp.utils.sym_grad(u, x, y, z)\n",
    "    sigma = torch.matmul(C, sym_grad).sum(dim=(2, 3)).T.reshape(len(u), 3, 3)\n",
    "    return torch.norm(sigma, dim=(1,2))\n",
    "fig = tp.utils.plot(model, strain_fn, samp, plot_type='contour_surface')"
   ]
  }
 ],
 "metadata": {
  "interpreter": {
   "hash": "fb770cb910411e790a99fd848f827dc995ac53be5098d939fbaa56bcec3c9277"
  },
  "kernelspec": {
   "display_name": "Python 3 (ipykernel)",
   "language": "python",
   "name": "python3"
  },
  "language_info": {
   "codemirror_mode": {
    "name": "ipython",
    "version": 3
   },
   "file_extension": ".py",
   "mimetype": "text/x-python",
   "name": "python",
   "nbconvert_exporter": "python",
   "pygments_lexer": "ipython3",
   "version": "3.9.7"
  }
 },
 "nbformat": 4,
 "nbformat_minor": 2
}
