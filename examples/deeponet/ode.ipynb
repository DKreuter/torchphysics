{
 "cells": [
  {
   "cell_type": "markdown",
   "metadata": {},
   "source": [
    "# Physics-informed DeepONet: Solving a ODE for different right hand sides\n",
    "In this notebook, we present an introduction to the physics-informed DeepONet [(paper)](https://arxiv.org/abs/2103.10974) utilities of TorchPhysics. \n",
    "As an example, we try to learn the integral operator of the ODE:\n",
    "\\begin{align*}\n",
    "    \\partial_t u(t) &= f(t), \\text{ in } [0, 1] \\\\\n",
    "    u(0) &= 0\n",
    "\\end{align*}\n",
    "for different functions $f$. \n",
    "\n",
    "The general structure of TorchPhysics still holds for DeepONet problems. But we need some new concepts to define training functions of $f$. Here we show, how to:\n",
    "\n",
    "- create a function space for different training functions\n",
    "- define a DeepONet-neural-network consisting of trunk and branch net\n",
    "\n",
    "and some additional details one has to consider.\n"
   ]
  },
  {
   "cell_type": "code",
   "execution_count": 1,
   "metadata": {},
   "outputs": [],
   "source": [
    "import os\n",
    "os.environ[\"CUDA_VISIBLE_DEVICES\"] = \"3\"\n",
    "import torch\n",
    "import torchphysics as tp\n",
    "import pytorch_lightning as pl"
   ]
  },
  {
   "cell_type": "code",
   "execution_count": 2,
   "metadata": {},
   "outputs": [],
   "source": [
    "# Spaces \n",
    "T = tp.spaces.R1('t') # input variable\n",
    "U = tp.spaces.R1('u') # output variable\n",
    "K = tp.spaces.R1('k') # parameter\n",
    "F = tp.spaces.R1('f') # function output space name\n",
    "# Domains\n",
    "T_int = tp.domains.Interval(T, 0, 1)\n",
    "K_int = tp.domains.Interval(K, 0, 6) # Parameters will be scalar values"
   ]
  },
  {
   "cell_type": "code",
   "execution_count": 3,
   "metadata": {},
   "outputs": [],
   "source": [
    "# Defining function set\n",
    "Fn_space = tp.spaces.FunctionSpace(T_int, F)\n",
    "\n",
    "def f1(k, t):\n",
    "    return k*t\n",
    "\n",
    "def f2(k, t):\n",
    "    return k*t**2\n",
    "\n",
    "def f3(k, t):\n",
    "    return k*torch.cos(k*t)\n",
    "\n",
    "param_sampler = tp.samplers.RandomUniformSampler(K_int, n_points=40)\n",
    "Fn_set = tp.domains.CustomFunctionSet(Fn_space, param_sampler, f1)\n",
    "Fn_set += tp.domains.CustomFunctionSet(Fn_space, param_sampler, f2)\n",
    "Fn_set += tp.domains.CustomFunctionSet(Fn_space, param_sampler, f3)"
   ]
  },
  {
   "cell_type": "code",
   "execution_count": 4,
   "metadata": {},
   "outputs": [],
   "source": [
    "# Model\n",
    "dis_sampler = tp.samplers.GridSampler(T_int, 50).make_static()\n",
    "trunk_net = tp.models.FCTrunkNet(T, U, hidden=(30, 30), output_neurons=50)\n",
    "branch_net = tp.models.FCBranchNet(Fn_space, U, output_neurons=50, \n",
    "                                   hidden=(50, 50), \n",
    "                                   discretization_sampler=dis_sampler)\n",
    "model = tp.models.DeepONet(trunk_net, branch_net)"
   ]
  },
  {
   "cell_type": "code",
   "execution_count": 5,
   "metadata": {},
   "outputs": [],
   "source": [
    "# ODE condition\n",
    "inner_sampler = tp.samplers.RandomUniformSampler(T_int, 1000)\n",
    "\n",
    "def ode_residual(u, t, f):\n",
    "    return tp.utils.grad(u, t) - f\n",
    "\n",
    "ode_cond = tp.conditions.PIDeepONetCondition(deeponet_model=model, \n",
    "                                             function_set=Fn_set, \n",
    "                                             input_sampler=inner_sampler, \n",
    "                                             name='ode_condition',\n",
    "                                             residual_fn=ode_residual)"
   ]
  },
  {
   "cell_type": "code",
   "execution_count": 6,
   "metadata": {},
   "outputs": [],
   "source": [
    "left_sampler = tp.samplers.RandomUniformSampler(T_int.boundary_left, 500)\n",
    "\n",
    "def initial_residual(u):\n",
    "    return u\n",
    "\n",
    "initial_cond = tp.conditions.PIDeepONetCondition(deeponet_model=model, \n",
    "                                                 function_set=Fn_set, \n",
    "                                                 input_sampler=left_sampler, \n",
    "                                                 residual_fn=initial_residual)"
   ]
  },
  {
   "cell_type": "code",
   "execution_count": 7,
   "metadata": {
    "tags": [
     "outputPrepend"
    ]
   },
   "outputs": [
    {
     "name": "stderr",
     "output_type": "stream",
     "text": [
      "GPU available: True, used: True\n",
      "TPU available: False, using: 0 TPU cores\n",
      "LOCAL_RANK: 0 - CUDA_VISIBLE_DEVICES: [3]\n",
      "\n",
      "  | Name             | Type       | Params\n",
      "------------------------------------------------\n",
      "0 | train_conditions | ModuleList | 10.2 K\n",
      "1 | val_conditions   | ModuleList | 0     \n",
      "------------------------------------------------\n",
      "10.2 K    Trainable params\n",
      "0         Non-trainable params\n",
      "10.2 K    Total params\n",
      "0.041     Total estimated model params size (MB)\n",
      "/home/tomfre/miniconda3/envs/bosch/lib/python3.9/site-packages/pytorch_lightning/utilities/distributed.py:69: UserWarning: The dataloader, train dataloader, does not have many workers which may be a bottleneck. Consider increasing the value of the `num_workers` argument` (try 20 which is the number of cpus on this machine) in the `DataLoader` init to improve performance.\n",
      "  warnings.warn(*args, **kwargs)\n",
      "/home/tomfre/miniconda3/envs/bosch/lib/python3.9/site-packages/pytorch_lightning/utilities/distributed.py:69: UserWarning: The dataloader, val dataloader 0, does not have many workers which may be a bottleneck. Consider increasing the value of the `num_workers` argument` (try 20 which is the number of cpus on this machine) in the `DataLoader` init to improve performance.\n",
      "  warnings.warn(*args, **kwargs)\n"
     ]
    },
    {
     "data": {
      "application/vnd.jupyter.widget-view+json": {
       "model_id": "d552c74b342d4a58b92b5b3739e12225",
       "version_major": 2,
       "version_minor": 0
      },
      "text/plain": [
       "Training: 0it [00:00, ?it/s]"
      ]
     },
     "metadata": {},
     "output_type": "display_data"
    },
    {
     "data": {
      "application/vnd.jupyter.widget-view+json": {
       "model_id": "dae75de8eeae4dc58c908240886d2c80",
       "version_major": 2,
       "version_minor": 0
      },
      "text/plain": [
       "Validating: 0it [00:00, ?it/s]"
      ]
     },
     "metadata": {},
     "output_type": "display_data"
    }
   ],
   "source": [
    "solver = tp.solver.Solver([ode_cond, initial_cond])\n",
    "\n",
    "trainer = pl.Trainer(gpus='-1' if torch.cuda.is_available() else None,\n",
    "                     num_sanity_val_steps=0,\n",
    "                     benchmark=True,\n",
    "                     max_steps=4000,\n",
    "                     logger=False,\n",
    "                     checkpoint_callback=False\n",
    "                     )\n",
    "\n",
    "trainer.fit(solver)"
   ]
  },
  {
   "cell_type": "code",
   "execution_count": 8,
   "metadata": {},
   "outputs": [
    {
     "data": {
      "text/plain": [
       "<matplotlib.legend.Legend at 0x7fad4edcb3d0>"
      ]
     },
     "execution_count": 8,
     "metadata": {},
     "output_type": "execute_result"
    },
    {
     "data": {
      "image/png": "[encoded data removed]",
      "text/plain": [
       "<Figure size 432x288 with 1 Axes>"
      ]
     },
     "metadata": {
      "needs_background": "light"
     },
     "output_type": "display_data"
    }
   ],
   "source": [
    "import matplotlib.pyplot as plt\n",
    "\n",
    "k0 = 1.76\n",
    "def f(t):\n",
    "    return k0 * t**2\n",
    "\n",
    "def F(t):\n",
    "    return k0/3.0 * t**3\n",
    "\n",
    "model.fix_branch_input(f)\n",
    "grid_sampler = tp.samplers.GridSampler(T_int, 500)\n",
    "grid_points = grid_sampler.sample_points()\n",
    "out = model(grid_points).as_tensor.detach()[0]\n",
    "\n",
    "grid_p = grid_points.as_tensor\n",
    "plt.plot(grid_p, out)\n",
    "plt.plot(grid_p, F(grid_p))\n",
    "plt.grid()\n",
    "plt.legend(['Network output', 'Analytical solution'])"
   ]
  },
  {
   "cell_type": "code",
   "execution_count": 9,
   "metadata": {},
   "outputs": [
    {
     "data": {
      "text/plain": [
       "<matplotlib.legend.Legend at 0x7fad4e0cff10>"
      ]
     },
     "execution_count": 9,
     "metadata": {},
     "output_type": "execute_result"
    },
    {
     "data": {
      "image/png": "[encoded data removed]",
      "text/plain": [
       "<Figure size 432x288 with 1 Axes>"
      ]
     },
     "metadata": {
      "needs_background": "light"
     },
     "output_type": "display_data"
    }
   ],
   "source": [
    "k0 = 5.54\n",
    "def f(t):\n",
    "    return k0 * torch.cos(k0*t)\n",
    "\n",
    "def F(t):\n",
    "    return torch.sin(k0*t)\n",
    "\n",
    "model.fix_branch_input(f)\n",
    "grid_sampler = tp.samplers.GridSampler(T_int, 500)\n",
    "grid_points = grid_sampler.sample_points()\n",
    "out = model(grid_points).as_tensor.detach()[0]\n",
    "\n",
    "grid_p = grid_points.as_tensor\n",
    "plt.plot(grid_p, out)\n",
    "plt.plot(grid_p, F(grid_p))\n",
    "plt.grid()\n",
    "plt.legend(['Network output', 'Analytical solution'])"
   ]
  }
 ],
 "metadata": {
  "interpreter": {
   "hash": "fb770cb910411e790a99fd848f827dc995ac53be5098d939fbaa56bcec3c9277"
  },
  "kernelspec": {
   "display_name": "Python 3",
   "language": "python",
   "name": "python3"
  },
  "language_info": {
   "codemirror_mode": {
    "name": "ipython",
    "version": 3
   },
   "file_extension": ".py",
   "mimetype": "text/x-python",
   "name": "python",
   "nbconvert_exporter": "python",
   "pygments_lexer": "ipython3",
   "version": "3.9.4"
  },
  "orig_nbformat": 4
 },
 "nbformat": 4,
 "nbformat_minor": 2
}
