{
 "cells": [
  {
   "cell_type": "markdown",
   "metadata": {},
   "source": [
    "## Solving a inverse heat equation\n",
    "\n",
    "We want to solve a inverse 2D heat equation and find the heat diffusion coefficent $D$."
   ]
  },
  {
   "cell_type": "code",
   "execution_count": 1,
   "metadata": {},
   "outputs": [],
   "source": [
    "import torch\n",
    "import torchphysics as tp\n",
    "import math\n",
    "\n",
    "import os\n",
    "os.environ[\"CUDA_VISIBLE_DEVICES\"] = \"2\" # select GPUs to use"
   ]
  },
  {
   "cell_type": "markdown",
   "metadata": {},
   "source": [
    "Like always we first define the spaces. Even if we want to find the value of $D$ we still define a space for this coefficent."
   ]
  },
  {
   "cell_type": "code",
   "execution_count": 2,
   "metadata": {},
   "outputs": [],
   "source": [
    "X = tp.spaces.R2('x')\n",
    "T = tp.spaces.R1('t')\n",
    "D = tp.spaces.R1('D') # one dimensional parameter\n",
    "\n",
    "U = tp.spaces.R1('u')"
   ]
  },
  {
   "cell_type": "markdown",
   "metadata": {},
   "source": [
    "Next are the domains for space and time"
   ]
  },
  {
   "cell_type": "code",
   "execution_count": 3,
   "metadata": {},
   "outputs": [],
   "source": [
    "w, h = 10, 10\n",
    "t_0, t_end = 0, 3\n",
    "temp_hot = 50\n",
    "\n",
    "domain_x = tp.domains.Parallelogram(X, [0, 0], [w, 0], [0, h])\n",
    "domain_t = tp.domains.Interval(T, t_0, t_end)"
   ]
  },
  {
   "cell_type": "markdown",
   "metadata": {},
   "source": [
    "Now we construct the neural network like always, since we will not only find $D$ but also create a *interpolation* of the given data. \n",
    "\n",
    "For the parameter that we want to find, we use the class *Parameter*, which gets an inital guess and a spaces as an input. This parameter then has to be passed to the conditions, to be trained. "
   ]
  },
  {
   "cell_type": "code",
   "execution_count": 4,
   "metadata": {},
   "outputs": [],
   "source": [
    "# D NOT input of the model:\n",
    "model = tp.models.FCN(input_space=X*T, output_space=U, hidden=(30,30,30))\n",
    "\n",
    "param_D = tp.models.Parameter(init=0.0, space=D)"
   ]
  },
  {
   "cell_type": "markdown",
   "metadata": {},
   "source": [
    "We need some data to use in the inverse problem, for this we create a solution with a FDM scheme."
   ]
  },
  {
   "cell_type": "code",
   "execution_count": 5,
   "metadata": {},
   "outputs": [],
   "source": [
    "import sys\n",
    "sys.path.append('..')\n",
    "\n",
    "from fdm_heat_equation import FDM, transform_to_points\n",
    "\n",
    "def inital_value(x):\n",
    "    return temp_hot*torch.sin(math.pi/w*x[:,0])*torch.sin(math.pi/h*x[:,1])\n",
    "\n",
    "final_D = 2.0 # the D value we want to find \n",
    "fdm_domain, fdm_time_domains, fdm_solution = FDM([0, w, 0, h], 2*[0.5], [t_0,t_end], [final_D], inital_value)\n",
    "# transform to correct format for our use:\n",
    "fdm_inp, fdm_out = transform_to_points(fdm_domain, fdm_time_domains, fdm_solution, [final_D], False)"
   ]
  },
  {
   "cell_type": "markdown",
   "metadata": {},
   "source": [
    "Now we have around 40.000 data points. But we only want to use a few, so we use random.choice to pick here 5000 points"
   ]
  },
  {
   "cell_type": "code",
   "execution_count": 6,
   "metadata": {},
   "outputs": [],
   "source": [
    "import numpy as np\n",
    "index = np.random.choice(len(fdm_inp), 5000, replace=False)\n",
    "fdm_inp = fdm_inp[index, ]\n",
    "fdm_out = fdm_out[index, ]"
   ]
  },
  {
   "cell_type": "markdown",
   "metadata": {},
   "source": [
    "This data we use now to create a data condition that will train the network:"
   ]
  },
  {
   "cell_type": "code",
   "execution_count": 7,
   "metadata": {},
   "outputs": [],
   "source": [
    "data_loader = tp.utils.PointsDataLoader((fdm_inp, fdm_out), batch_size=5000)\n",
    "data_condition = tp.conditions.DataCondition(module=model,\n",
    "                                             dataloader=data_loader,\n",
    "                                             norm=2, \n",
    "                                             use_full_dataset=True) "
   ]
  },
  {
   "cell_type": "markdown",
   "metadata": {},
   "source": [
    "To learn the parameter we have to use the PDE itself. Therefore we will create, just like in the forward problem, a condition for the PDE. For this condition we have to pass in the parameter $D$ we created."
   ]
  },
  {
   "cell_type": "code",
   "execution_count": 8,
   "metadata": {},
   "outputs": [],
   "source": [
    "inner_sampler = tp.samplers.RandomUniformSampler(domain_x*domain_t, n_points=5000)\n",
    "\n",
    "def heat_residual(u, x, t, D):\n",
    "    return D*tp.utils.laplacian(u[:,0], x)-tp.utils.grad(u[:,0], t)\n",
    "\n",
    "pde_condition = tp.conditions.PINNCondition(module=model,\n",
    "                                            sampler=inner_sampler,\n",
    "                                            residual_fn=heat_residual,\n",
    "                                            name='pde_condition', \n",
    "                                            parameter=param_D) # here pass in the param"
   ]
  },
  {
   "cell_type": "markdown",
   "metadata": {},
   "source": [
    "This is all we have to do, to define the inverse problem. Now we can already start the training like always and the parameter $D$ will be learned too. We start with Adam:"
   ]
  },
  {
   "cell_type": "code",
   "execution_count": 9,
   "metadata": {},
   "outputs": [
    {
     "name": "stderr",
     "output_type": "stream",
     "text": [
      "GPU available: True, used: True\n",
      "TPU available: False, using: 0 TPU cores\n",
      "LOCAL_RANK: 0 - CUDA_VISIBLE_DEVICES: [2]\n",
      "\n",
      "  | Name             | Type       | Params\n",
      "------------------------------------------------\n",
      "0 | train_conditions | ModuleList | 2.0 K \n",
      "1 | val_conditions   | ModuleList | 0     \n",
      "------------------------------------------------\n",
      "2.0 K     Trainable params\n",
      "0         Non-trainable params\n",
      "2.0 K     Total params\n",
      "0.008     Total estimated model params size (MB)\n"
     ]
    },
    {
     "data": {
      "application/vnd.jupyter.widget-view+json": {
       "model_id": "bb68a8662cc146dab2a019e29930fa26",
       "version_major": 2,
       "version_minor": 0
      },
      "text/plain": [
       "Validation sanity check: 0it [00:00, ?it/s]"
      ]
     },
     "metadata": {},
     "output_type": "display_data"
    },
    {
     "name": "stderr",
     "output_type": "stream",
     "text": [
      "/home/tomfre/miniconda3/envs/bosch/lib/python3.9/site-packages/pytorch_lightning/utilities/distributed.py:69: UserWarning: The dataloader, val dataloader 0, does not have many workers which may be a bottleneck. Consider increasing the value of the `num_workers` argument` (try 8 which is the number of cpus on this machine) in the `DataLoader` init to improve performance.\n",
      "  warnings.warn(*args, **kwargs)\n",
      "/home/tomfre/miniconda3/envs/bosch/lib/python3.9/site-packages/pytorch_lightning/utilities/distributed.py:69: UserWarning: The dataloader, train dataloader, does not have many workers which may be a bottleneck. Consider increasing the value of the `num_workers` argument` (try 8 which is the number of cpus on this machine) in the `DataLoader` init to improve performance.\n",
      "  warnings.warn(*args, **kwargs)\n"
     ]
    },
    {
     "data": {
      "application/vnd.jupyter.widget-view+json": {
       "model_id": "bed499125e1a484c947ef2303739634c",
       "version_major": 2,
       "version_minor": 0
      },
      "text/plain": [
       "Training: 0it [00:00, ?it/s]"
      ]
     },
     "metadata": {},
     "output_type": "display_data"
    },
    {
     "data": {
      "application/vnd.jupyter.widget-view+json": {
       "model_id": "c10fc9d9b8b04bd6817fd8941ff26b3a",
       "version_major": 2,
       "version_minor": 0
      },
      "text/plain": [
       "Validating: 0it [00:00, ?it/s]"
      ]
     },
     "metadata": {},
     "output_type": "display_data"
    }
   ],
   "source": [
    "solver = tp.solver.Solver([pde_condition, data_condition])\n",
    "\n",
    "import pytorch_lightning as pl\n",
    "\n",
    "trainer = pl.Trainer(gpus=1,\n",
    "                     max_steps=2000,\n",
    "                     logger=False,\n",
    "                     benchmark=True,\n",
    "                     checkpoint_callback=False)\n",
    "                     \n",
    "trainer.fit(solver)"
   ]
  },
  {
   "cell_type": "markdown",
   "metadata": {},
   "source": [
    "Switch to LBFGS:"
   ]
  },
  {
   "cell_type": "code",
   "execution_count": 10,
   "metadata": {},
   "outputs": [
    {
     "name": "stderr",
     "output_type": "stream",
     "text": [
      "GPU available: True, used: True\n",
      "TPU available: False, using: 0 TPU cores\n",
      "LOCAL_RANK: 0 - CUDA_VISIBLE_DEVICES: [2]\n",
      "\n",
      "  | Name             | Type       | Params\n",
      "------------------------------------------------\n",
      "0 | train_conditions | ModuleList | 2.0 K \n",
      "1 | val_conditions   | ModuleList | 0     \n",
      "------------------------------------------------\n",
      "2.0 K     Trainable params\n",
      "0         Non-trainable params\n",
      "2.0 K     Total params\n",
      "0.008     Total estimated model params size (MB)\n"
     ]
    },
    {
     "data": {
      "application/vnd.jupyter.widget-view+json": {
       "model_id": "10a315a0c2084742910c5844cbd735e3",
       "version_major": 2,
       "version_minor": 0
      },
      "text/plain": [
       "Validation sanity check: 0it [00:00, ?it/s]"
      ]
     },
     "metadata": {},
     "output_type": "display_data"
    },
    {
     "data": {
      "application/vnd.jupyter.widget-view+json": {
       "model_id": "f6475425357b4cb0bd1912143065bb11",
       "version_major": 2,
       "version_minor": 0
      },
      "text/plain": [
       "Training: 0it [00:00, ?it/s]"
      ]
     },
     "metadata": {},
     "output_type": "display_data"
    },
    {
     "data": {
      "application/vnd.jupyter.widget-view+json": {
       "model_id": "828251c4acd94806960de983721267ad",
       "version_major": 2,
       "version_minor": 0
      },
      "text/plain": [
       "Validating: 0it [00:00, ?it/s]"
      ]
     },
     "metadata": {},
     "output_type": "display_data"
    }
   ],
   "source": [
    "optim = tp.OptimizerSetting(optimizer_class=torch.optim.LBFGS, lr=0.05, \n",
    "                            optimizer_args={'max_iter': 2, 'history_size': 100})\n",
    "\n",
    "import pytorch_lightning as pl\n",
    "\n",
    "trainer = pl.Trainer(gpus=1,\n",
    "                     max_steps=2000,\n",
    "                     logger=False,\n",
    "                     benchmark=True,\n",
    "                     checkpoint_callback=False)\n",
    "trainer.fit(solver)"
   ]
  },
  {
   "cell_type": "markdown",
   "metadata": {},
   "source": [
    "Finally we can have a look on the value of D. Which is pretty close to $D=2.0$, that we used in FDM to create the data."
   ]
  },
  {
   "cell_type": "code",
   "execution_count": 11,
   "metadata": {},
   "outputs": [
    {
     "data": {
      "text/plain": [
       "Parameter:\n",
       "{'D': tensor([[1.9945]], grad_fn=<SliceBackward>)}"
      ]
     },
     "execution_count": 11,
     "metadata": {},
     "output_type": "execute_result"
    }
   ],
   "source": [
    "param_D"
   ]
  },
  {
   "cell_type": "markdown",
   "metadata": {},
   "source": [
    "And the neural network learned the solution $u(x, t)$:"
   ]
  },
  {
   "cell_type": "code",
   "execution_count": 12,
   "metadata": {},
   "outputs": [
    {
     "data": {
      "image/png": "[encoded data removed]",
      "text/plain": [
       "<Figure size 432x288 with 2 Axes>"
      ]
     },
     "metadata": {
      "needs_background": "light"
     },
     "output_type": "display_data"
    }
   ],
   "source": [
    "plot_sampler = tp.samplers.PlotSampler(plot_domain=domain_x, n_points=150, device='cuda',\n",
    "                                       data_for_other_variables={'t': 0.0 })\n",
    "fig = tp.utils.plot(model, lambda u : u, plot_sampler)"
   ]
  }
 ],
 "metadata": {
  "interpreter": {
   "hash": "fb770cb910411e790a99fd848f827dc995ac53be5098d939fbaa56bcec3c9277"
  },
  "kernelspec": {
   "display_name": "Python 3.9.4 64-bit ('bosch': conda)",
   "language": "python",
   "name": "python3"
  },
  "language_info": {
   "codemirror_mode": {
    "name": "ipython",
    "version": 3
   },
   "file_extension": ".py",
   "mimetype": "text/x-python",
   "name": "python",
   "nbconvert_exporter": "python",
   "pygments_lexer": "ipython3",
   "version": "3.9.4"
  },
  "orig_nbformat": 4
 },
 "nbformat": 4,
 "nbformat_minor": 2
}
