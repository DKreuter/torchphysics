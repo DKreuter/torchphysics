{
 "cells": [
  {
   "cell_type": "markdown",
   "id": "cce3e604",
   "metadata": {},
   "source": [
    "### PINN approach for the 1-D duffing problem\n",
    "\n",
    "$\\ddot{x} + 2D\\dot{x} + \\omega_0^2(x + \\mu x^3) = f(t)$"
   ]
  },
  {
   "cell_type": "code",
   "execution_count": null,
   "id": "034c062f",
   "metadata": {},
   "outputs": [],
   "source": [
    "import torch\n",
    "import torchphysics as tp\n",
    "import math\n",
    "import pytorch_lightning as pl\n",
    "import pandas as pd\n",
    "import numpy as np\n",
    "from scipy.integrate import solve_ivp"
   ]
  },
  {
   "cell_type": "code",
   "execution_count": null,
   "id": "cb96a875",
   "metadata": {},
   "outputs": [],
   "source": [
    "ode_params = {'D': .05,      # damping constant\n",
    "              'c_nlin': 0.2  # nonlinearity\n",
    "             }\n",
    "sampling_frequency = 10 \n",
    "end_t = 500 # sec\n",
    "time = pd.to_timedelta(np.linspace(0, end_t, end_t*sampling_frequency + 1), unit=\"sec\")"
   ]
  },
  {
   "cell_type": "markdown",
   "id": "79bd9b20",
   "metadata": {},
   "source": [
    "### ODE solution"
   ]
  },
  {
   "cell_type": "code",
   "execution_count": null,
   "id": "09f061ee",
   "metadata": {},
   "outputs": [],
   "source": [
    "def duffing(t, y, D, c_nlin, F):\n",
    "    \"\"\"\n",
    "    Duffing oscillator as descrbed in\n",
    "    https://en.wikipedia.org/wiki/Duffing_equation\n",
    "\n",
    "    Parameters\n",
    "    ----------\n",
    "    y : array of size 2\n",
    "        initial conditions.\n",
    "    t : float()\n",
    "        time step at which the Force is computed.\n",
    "    D : float()\n",
    "        damping of the system.\n",
    "    c_nlin : float()\n",
    "        indicating the nonlinearity of the system.\n",
    "    z : force applied\n",
    "        force excitation at the mass.\n",
    "\n",
    "    Returns\n",
    "    -------\n",
    "    derivatives of to duffing equation..\n",
    "\n",
    "    \"\"\"\n",
    "    z1, z2 = y\n",
    "    dz1dt = z2\n",
    "    dz2dt = - 2 * D * z2 - z1 - c_nlin * z1**3 + F\n",
    "    return(dz1dt, dz2dt)"
   ]
  },
  {
   "cell_type": "code",
   "execution_count": null,
   "id": "104d1a5f",
   "metadata": {},
   "outputs": [],
   "source": [
    "time.shape\n",
    "F = np.random.randn(time.shape[0]) # some white noise data on right hand site\n",
    "x0 = [0, 0] # initial conditions"
   ]
  },
  {
   "cell_type": "code",
   "execution_count": null,
   "id": "7db42f4e",
   "metadata": {},
   "outputs": [],
   "source": [
    "print(F.shape)\n",
    "print(time.total_seconds().to_numpy().shape)"
   ]
  },
  {
   "cell_type": "code",
   "execution_count": null,
   "id": "1eb8838f",
   "metadata": {},
   "outputs": [],
   "source": [
    "numeric_solu = solve_ivp(duffing,\n",
    "                         t_span=time.total_seconds().to_numpy(),\n",
    "                         y0 = x0,\n",
    "                         args=(ode_params['D'], ode_params['c_nlin'], F)\n",
    "                        )"
   ]
  },
  {
   "cell_type": "code",
   "execution_count": null,
   "id": "d7626839",
   "metadata": {},
   "outputs": [],
   "source": []
  }
 ],
 "metadata": {
  "kernelspec": {
   "display_name": "Python 3 (ipykernel)",
   "language": "python",
   "name": "python3"
  },
  "language_info": {
   "codemirror_mode": {
    "name": "ipython",
    "version": 3
   },
   "file_extension": ".py",
   "mimetype": "text/x-python",
   "name": "python",
   "nbconvert_exporter": "python",
   "pygments_lexer": "ipython3",
   "version": "3.9.7"
  }
 },
 "nbformat": 4,
 "nbformat_minor": 5
}
