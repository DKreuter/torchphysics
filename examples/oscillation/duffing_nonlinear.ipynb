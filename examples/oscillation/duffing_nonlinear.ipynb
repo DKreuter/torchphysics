{
 "cells": [
  {
   "cell_type": "markdown",
   "id": "cce3e604",
   "metadata": {},
   "source": [
    "### PINN approach for the 1-D duffing problem\n",
    "\n",
    "$\\ddot{x} + 2D\\dot{x} + \\omega_0^2(x + \\mu x^3) = f(t)$"
   ]
  },
  {
   "cell_type": "code",
   "execution_count": null,
   "id": "034c062f",
   "metadata": {},
   "outputs": [],
   "source": [
    "import torch\n",
    "import torchphysics as tp\n",
    "import pytorch_lightning as pl\n",
    "import pandas as pd\n",
    "import numpy as np\n",
    "from scipy.integrate import solve_ivp\n",
    "from scipy.interpolate import InterpolatedUnivariateSpline as IUS"
   ]
  },
  {
   "cell_type": "code",
   "execution_count": null,
   "id": "cb96a875",
   "metadata": {},
   "outputs": [],
   "source": [
    "omega_0 = 1\n",
    "\n",
    "ode_params = {'D': .01,      # damping constant\n",
    "              'c_nlin': 0.5  # nonlinearity\n",
    "             }\n",
    "sampling_frequency = 10 \n",
    "t_end = 100 # sec\n",
    "time = np.linspace(0, t_end, t_end*sampling_frequency + 1)\n",
    "time_ind = pd.to_timedelta(time, unit=\"sec\")"
   ]
  },
  {
   "cell_type": "markdown",
   "id": "79bd9b20",
   "metadata": {},
   "source": [
    "### ODE solution"
   ]
  },
  {
   "cell_type": "code",
   "execution_count": null,
   "id": "09f061ee",
   "metadata": {},
   "outputs": [],
   "source": [
    "def duffing(t, y, D, c_nlin, F_func):\n",
    "    z1, z2 = y\n",
    "    dz1dt = z2\n",
    "    dz2dt = - 2 * D * z2 - z1 - c_nlin * z1**3 + 0 *  F_func(t)\n",
    "    return(dz1dt, dz2dt)\n",
    "\n",
    "F = pd.Series(np.random.randn(time.shape[0]),\n",
    "              index=pd.Index(time, name=\"time\")\n",
    "              )# some white noise data on right hand site\n",
    "F_inter_func = IUS(time, F, k=1)\n",
    "\n",
    "x0 = [1, 0] # initial conditions\n",
    "numeric_solu = solve_ivp(duffing,\n",
    "                         t_span=(0, t_end),\n",
    "                         y0 = x0,\n",
    "                         max_step=1 / sampling_frequency,\n",
    "                         args=(ode_params['D'], ode_params['c_nlin'], F_inter_func)\n",
    "                        )\n",
    "\n",
    "solu = pd.Series(numeric_solu.y[0,:], index=pd.Index(numeric_solu.t, name=\"time\"))"
   ]
  },
  {
   "cell_type": "code",
   "execution_count": null,
   "id": "44030304",
   "metadata": {},
   "outputs": [],
   "source": [
    "solu.plot()"
   ]
  },
  {
   "cell_type": "markdown",
   "id": "120841b3",
   "metadata": {},
   "source": [
    "### PINN solution"
   ]
  },
  {
   "cell_type": "code",
   "execution_count": null,
   "id": "7db42f4e",
   "metadata": {},
   "outputs": [],
   "source": [
    "T = tp.spaces.R1('t') # time\n",
    "# Output\n",
    "U = tp.spaces.R1('u')\n",
    "# Intervals and domains and sampler\n",
    "Dmin, Dmax = 0.01, 0.1\n",
    "A_t = tp.domains.Interval(T, 0, t_end)\n",
    "inner_sampler = tp.samplers.GridSampler(A_t, n_points = 15♥00).make_static()\n",
    "    \n",
    "initial_u_sampler = tp.samplers.GridSampler(A_t.boundary_left, n_points = 1).make_static()\n",
    "initial_v_sampler = tp.samplers.GridSampler(A_t.boundary_left, n_points = 1).make_static()"
   ]
  },
  {
   "cell_type": "code",
   "execution_count": null,
   "id": "1eb8838f",
   "metadata": {},
   "outputs": [],
   "source": [
    "#%% Model Definition\n",
    "# model = tp.models.Sequential(\n",
    "#     tp.models.NormalizationLayer(A_t),\n",
    "#     tp.models.FCN(input_space=T, output_space=U, hidden=(20,20)))\n",
    "\n",
    "model = tp.models.FCN(input_space=T, output_space=U, hidden=(8, 8, 8),\n",
    "                      activations=torch.nn.Tanh() #Tanh(), RNN()\n",
    "                      )\n",
    "\n",
    "# model = tp.models.Sequential(\n",
    "#     tp.models.NormalizationLayer(A_t),\n",
    "#     tp.models.FCN(input_space=T, output_space=U, hidden=(20,20),\n",
    "#                   activations=torch.nn.LazyConv1d(out_channels=20, kernel_size=8)),\n",
    "#     # tp.model\n",
    "#     )"
   ]
  },
  {
   "cell_type": "code",
   "execution_count": 1,
   "id": "d7626839",
   "metadata": {},
   "outputs": [
    {
     "ename": "NameError",
     "evalue": "name 'tp' is not defined",
     "output_type": "error",
     "traceback": [
      "\u001b[1;31m---------------------------------------------------------------------------\u001b[0m",
      "\u001b[1;31mNameError\u001b[0m                                 Traceback (most recent call last)",
      "Input \u001b[1;32mIn [1]\u001b[0m, in \u001b[0;36m<cell line: 7>\u001b[1;34m()\u001b[0m\n\u001b[0;32m      3\u001b[0m     fmin \u001b[38;5;241m=\u001b[39m tp\u001b[38;5;241m.\u001b[39mutils\u001b[38;5;241m.\u001b[39mlaplacian(u, t)  \u001b[38;5;241m+\u001b[39m \u001b[38;5;241m2\u001b[39m \u001b[38;5;241m*\u001b[39m ode_params[\u001b[38;5;124m\"\u001b[39m\u001b[38;5;124mD\u001b[39m\u001b[38;5;124m\"\u001b[39m] \u001b[38;5;241m*\u001b[39m tp\u001b[38;5;241m.\u001b[39mutils\u001b[38;5;241m.\u001b[39mgrad(u, t) \\\n\u001b[0;32m      4\u001b[0m             \u001b[38;5;241m+\u001b[39m u \u001b[38;5;241m+\u001b[39m ode_params[\u001b[38;5;124m\"\u001b[39m\u001b[38;5;124mc_nlin\u001b[39m\u001b[38;5;124m\"\u001b[39m] \u001b[38;5;241m*\u001b[39m u\u001b[38;5;241m*\u001b[39m\u001b[38;5;241m*\u001b[39m\u001b[38;5;241m3\u001b[39m \u001b[38;5;241m-\u001b[39m rhs\n\u001b[0;32m      5\u001b[0m     \u001b[38;5;28;01mreturn\u001b[39;00m \u001b[38;5;241m10\u001b[39m \u001b[38;5;241m*\u001b[39m fmin \u001b[38;5;66;03m# weighting of PDE = 10\u001b[39;00m\n\u001b[1;32m----> 7\u001b[0m pde_condition \u001b[38;5;241m=\u001b[39m \u001b[43mtp\u001b[49m\u001b[38;5;241m.\u001b[39mconditions\u001b[38;5;241m.\u001b[39mPINNCondition(module\u001b[38;5;241m=\u001b[39mmodel,\n\u001b[0;32m      8\u001b[0m                                             sampler\u001b[38;5;241m=\u001b[39minner_sampler,\n\u001b[0;32m      9\u001b[0m                                             residual_fn\u001b[38;5;241m=\u001b[39mduffing_residual,\n\u001b[0;32m     10\u001b[0m                                             name\u001b[38;5;241m=\u001b[39m\u001b[38;5;124m'\u001b[39m\u001b[38;5;124mpde_condition\u001b[39m\u001b[38;5;124m'\u001b[39m)\n\u001b[0;32m     12\u001b[0m \u001b[38;5;28;01mdef\u001b[39;00m \u001b[38;5;21minitial_u_residual\u001b[39m(u):\n\u001b[0;32m     13\u001b[0m     \u001b[38;5;28;01mreturn\u001b[39;00m u\u001b[38;5;241m-\u001b[39m\u001b[38;5;241m1\u001b[39m\n",
      "\u001b[1;31mNameError\u001b[0m: name 'tp' is not defined"
     ]
    }
   ],
   "source": [
    "def duffing_residual(u, t):\n",
    "    rhs = 0 * torch.tensor(F_inter_func(t.detach().numpy()))\n",
    "    fmin = tp.utils.laplacian(u, t)  + 2 * ode_params[\"D\"] * tp.utils.grad(u, t) \\\n",
    "            + u + ode_params[\"c_nlin\"] * u**3 - rhs\n",
    "    return 10 * fmin # weighting of PDE = 10\n",
    "            \n",
    "pde_condition = tp.conditions.PINNCondition(module=model,\n",
    "                                            sampler=inner_sampler,\n",
    "                                            residual_fn=duffing_residual,\n",
    "                                            name='pde_condition')\n",
    "\n",
    "def initial_u_residual(u):\n",
    "    return u-1\n",
    "initial_u_condition = tp.conditions.PINNCondition(module=model,\n",
    "                                                     sampler=initial_u_sampler,\n",
    "                                                     residual_fn=initial_u_residual,\n",
    "                                                     name='ic_u')\n",
    "\n",
    "def initial_v_residual(u, t):\n",
    "    return tp.utils.grad(u, t)\n",
    "initial_v_condition = tp.conditions.PINNCondition(module=model,\n",
    "                                                     sampler=initial_v_sampler,\n",
    "                                                     residual_fn=initial_v_residual,\n",
    "                                                     name='ic_v')\n",
    "# def right_hand_side(t):\n",
    "#     return F_inter_func(t)\n",
    "# def total_residual(u, f):\n",
    "#     return u-f\n",
    "# force = tp.conditions.PINNCondition(module=model,\n",
    "#                                     sampler=inner_sampler,\n",
    "#                                     residual_fn=total_residual,\n",
    "#                                     data_functions={'f': right_hand_side},\n",
    "#                                     name='force')"
   ]
  },
  {
   "cell_type": "code",
   "execution_count": null,
   "id": "3dd9b6e3",
   "metadata": {},
   "outputs": [],
   "source": [
    "#%% Training\n",
    "for opti in [torch.optim.AdamW, torch.optim.LBFGS]:\n",
    "    opt_setting = tp.solver.OptimizerSetting(opti, lr=1e-2) #AdamW, SGD, LBFGS\n",
    "    solver = tp.solver.Solver([pde_condition,\n",
    "                               initial_u_condition,\n",
    "                               initial_v_condition], optimizer_setting = opt_setting)\n",
    "    \n",
    "    trainer = pl.Trainer(gpus=None, # or 1 if GPU available\n",
    "                         max_steps = 350,\n",
    "                         logger=True, \n",
    "                         benchmark=False,\n",
    "                         log_every_n_steps=10,\n",
    "                         )\n",
    "    trainer.fit(solver)"
   ]
  },
  {
   "cell_type": "code",
   "execution_count": null,
   "id": "b4eb90d6",
   "metadata": {},
   "outputs": [],
   "source": [
    "#%% Prediction\n",
    "time_tensor = torch.tensor(time)\n",
    "\n",
    "grid_sampler = tp.samplers.GridSampler(A_t, n_points=len(solu)) #+ tp.samplers.GridSampler(A_t.boundary, n_points=1)\n",
    "grid_points = grid_sampler.sample_points()\n",
    "                        # )\n",
    "model_out = model(grid_points)\n",
    "pinn_solu = pd.Series(model_out.as_tensor.detach().numpy().ravel(),\n",
    "                      index=pd.Index(grid_points.as_tensor.detach().numpy().ravel(),\n",
    "                                      name=\"time\"))\n",
    "solu_comb = pd.concat((solu, pinn_solu), axis=1)\n",
    "solu_comb.plot()"
   ]
  }
 ],
 "metadata": {
  "kernelspec": {
   "display_name": "Python 3 (ipykernel)",
   "language": "python",
   "name": "python3"
  },
  "language_info": {
   "codemirror_mode": {
    "name": "ipython",
    "version": 3
   },
   "file_extension": ".py",
   "mimetype": "text/x-python",
   "name": "python",
   "nbconvert_exporter": "python",
   "pygments_lexer": "ipython3",
   "version": "3.10.4"
  }
 },
 "nbformat": 4,
 "nbformat_minor": 5
}
